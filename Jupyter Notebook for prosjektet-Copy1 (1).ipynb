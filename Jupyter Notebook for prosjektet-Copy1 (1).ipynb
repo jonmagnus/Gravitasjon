{
 "cells": [
  {
   "cell_type": "markdown",
   "metadata": {},
   "source": [
    "# Prosjekt programmering og modellering "
   ]
  },
  {
   "cell_type": "markdown",
   "metadata": {},
   "source": [
    "###  Problemstilling: bruke og endre et datasett fra NASA til å finne gravitasjonskonstanten ved hjelp av formelen"
   ]
  },
  {
   "cell_type": "markdown",
   "metadata": {},
   "source": [
    "[Dette er linken til tabellen vi hentet datasettet fra](https://nssdc.gsfc.nasa.gov/planetary/factsheet/)"
   ]
  },
  {
   "cell_type": "markdown",
   "metadata": {},
   "source": [
    "### Introduksjon"
   ]
  },
  {
   "cell_type": "markdown",
   "metadata": {},
   "source": [
    "Gravitasjonskonstanten blir brukt til å regne på gravitasjonskrefter som virker mellom to gjenstander. "
   ]
  },
  {
   "cell_type": "markdown",
   "metadata": {},
   "source": [
    "Konstanten er universell, og gjelder i verdensrommet mellom planeter, så vel som mellom to gjenstander på jorda."
   ]
  },
  {
   "cell_type": "markdown",
   "metadata": {},
   "source": [
    "I dette prosjektet skal vi sjekke, via regresjon, om denne konstanten stemmer med NASAs målte verdier. "
   ]
  },
  {
   "cell_type": "markdown",
   "metadata": {},
   "source": [
    "Gravitasjonskonstanten, $\\gamma$, er forøvrig gitt som $6,67*(10**-11)$"
   ]
  },
  {
   "cell_type": "markdown",
   "metadata": {},
   "source": [
    "### Metode"
   ]
  },
  {
   "cell_type": "markdown",
   "metadata": {},
   "source": [
    "* Vi lagde først en string fra tabellen i linken over. Deretter splittet vi dataen opp i ulike rader og kolonner."
   ]
  },
  {
   "cell_type": "markdown",
   "metadata": {},
   "source": [
    "* Vi lager så en tabell over dataene ved å bruke en for-løkke til å lage lister over de ulike kolonnene. Så brukte vi pandas til å lage en tabell."
   ]
  },
  {
   "cell_type": "markdown",
   "metadata": {},
   "source": [
    "* Etter dette fjernet vi en mengde unødvendige data. Deretter gjorde vi om de enhentene vi skulle bruke til SI-enheter."
   ]
  },
  {
   "cell_type": "markdown",
   "metadata": {},
   "source": [
    "* Vi bruker funksjonen $g(r)=1/r*\\gamma*M$ til å få de ulike verdiene vi skal ta regresjonsanalyse av."
   ]
  },
  {
   "cell_type": "markdown",
   "metadata": {},
   "source": [
    "* g er gravitasjonsfeltet, r er avstanden til sentrum i gjenstanden til sentrum i sola, og M er massen til sola. "
   ]
  },
  {
   "cell_type": "markdown",
   "metadata": {},
   "source": [
    "* Tilslutt lager vi regresjon av dataene."
   ]
  },
  {
   "cell_type": "markdown",
   "metadata": {},
   "source": [
    "### Resultater"
   ]
  },
  {
   "cell_type": "code",
   "execution_count": null,
   "metadata": {},
   "outputs": [],
   "source": []
  }
 ],
 "metadata": {
  "kernelspec": {
   "display_name": "Python 3",
   "language": "python",
   "name": "python3"
  },
  "language_info": {
   "codemirror_mode": {
    "name": "ipython",
    "version": 3
   },
   "file_extension": ".py",
   "mimetype": "text/x-python",
   "name": "python",
   "nbconvert_exporter": "python",
   "pygments_lexer": "ipython3",
   "version": "3.6.5"
  }
 },
 "nbformat": 4,
 "nbformat_minor": 2
}
